{
 "cells": [
  {
   "cell_type": "code",
   "execution_count": 13,
   "id": "b13754b2",
   "metadata": {},
   "outputs": [
    {
     "name": "stdout",
     "output_type": "stream",
     "text": [
      "enter the number of equation i need to solve  :\n",
      "3\n",
      "Enter the Matrix A in a single line (separated by space): \n",
      "2 -1 0 -1 2 -1 0 -1 +2\n",
      "Enter the Matrix B in a single line (separated by space): \n",
      "7 1 1\n",
      "[5.99996948 4.99996948 2.99998474]\n"
     ]
    }
   ],
   "source": [
    "import numpy as np \n",
    "import matplotlib.pyplot as plt\n",
    "n=int(input(\"enter the number of equation i need to solve  :\\n\"))\n",
    "x=np.ones(n) #.................#initial guess as 1 for all the x\n",
    "x_0=np.ones(n)\n",
    "epc=10**(-5)\n",
    "difference=1\n",
    "#input of matrix A\n",
    "print(\"Enter the Matrix A in a single line (separated by space): \")\n",
    "entries = list(map(int, input().split()))\n",
    "A = np.array(entries).reshape(n, n)\n",
    "#input of matrix B\n",
    "print(\"Enter the Matrix B in a single line (separated by space): \")\n",
    "entries1 = list(map(int, input().split()))\n",
    "B=np.array(entries1).reshape(n)\n",
    "key=0\n",
    "while(key==0):\n",
    "    for i in range(0,n):\n",
    "        sum1=B[i]\n",
    "        for j in range(0,n):\n",
    "            if(i!=j):\n",
    "                sum1= sum1-A[i][j]*x_0[j]\n",
    "        x[i]=sum1/A[i][i]\n",
    "        if(abs((x[i]-x_0[i])/x[i])<epc):\n",
    "            key=1\n",
    "        x_0[i]=x[i]\n",
    "print(x)\n",
    "    \n",
    "#while(epc<difference):\n",
    "#print(B)    "
   ]
  },
  {
   "cell_type": "code",
   "execution_count": 14,
   "id": "c83dbf8f",
   "metadata": {},
   "outputs": [
    {
     "name": "stdout",
     "output_type": "stream",
     "text": [
      "enter the number of equation i need to solve  :\n",
      "3\n",
      "Enter the Matrix A in a single line (separated by space): \n",
      "2 -1 0 -1 2 -1 0 -1 +2\n",
      "Enter the Matrix B in a single line (separated by space): \n",
      "7 1 1\n"
     ]
    },
    {
     "ename": "KeyboardInterrupt",
     "evalue": "",
     "output_type": "error",
     "traceback": [
      "\u001b[1;31m---------------------------------------------------------------------------\u001b[0m",
      "\u001b[1;31mKeyboardInterrupt\u001b[0m                         Traceback (most recent call last)",
      "Input \u001b[1;32mIn [14]\u001b[0m, in \u001b[0;36m<cell line: 19>\u001b[1;34m()\u001b[0m\n\u001b[0;32m     22\u001b[0m \u001b[38;5;28;01mfor\u001b[39;00m j \u001b[38;5;129;01min\u001b[39;00m \u001b[38;5;28mrange\u001b[39m(\u001b[38;5;241m0\u001b[39m,n):\n\u001b[0;32m     23\u001b[0m     \u001b[38;5;28;01mif\u001b[39;00m(i\u001b[38;5;241m!=\u001b[39mj):\n\u001b[1;32m---> 24\u001b[0m         sum1\u001b[38;5;241m=\u001b[39m sum1 \u001b[38;5;241m-\u001b[39mA[i][j]\u001b[38;5;241m*\u001b[39mx_0[j]\n\u001b[0;32m     25\u001b[0m x[i]\u001b[38;5;241m=\u001b[39msum1\u001b[38;5;241m/\u001b[39mA[i][i]\n\u001b[0;32m     27\u001b[0m sum2\u001b[38;5;241m=\u001b[39msum2 \u001b[38;5;241m+\u001b[39m x[i]\n",
      "\u001b[1;31mKeyboardInterrupt\u001b[0m: "
     ]
    }
   ],
   "source": [
    "import numpy as np \n",
    "import matplotlib.pyplot as plt\n",
    "n=int(input(\"enter the number of equation i need to solve  :\\n\"))\n",
    "x=np.ones(n) #.................#initial guess as 1 for all the x\n",
    "x_0=np.ones(n)\n",
    "epc=10**(-5)\n",
    "difference=1\n",
    "#input of matrix A\n",
    "print(\"Enter the Matrix A in a single line (separated by space): \")\n",
    "entries = list(map(int, input().split()))\n",
    "A = np.array(entries).reshape(n, n)\n",
    "#input of matrix B\n",
    "print(\"Enter the Matrix B in a single line (separated by space): \")\n",
    "entries1 = list(map(int, input().split()))\n",
    "B=np.array(entries1).reshape(n)\n",
    "key=0\n",
    "sum2=0\n",
    "sum3=0\n",
    "while(key==0):\n",
    "    for i in range(0,n):\n",
    "        sum1=B[i]\n",
    "        for j in range(0,n):\n",
    "            if(i!=j):\n",
    "                sum1= sum1 -A[i][j]*x_0[j]\n",
    "        x[i]=sum1/A[i][i]\n",
    "        \n",
    "        sum2=sum2 + x[i]\n",
    "        sum3=sum3 + x_0[i]\n",
    "           \n",
    "        if(abs(sum3-sum2)<epc):\n",
    "            key=1\n",
    "        x_0[i]=x[i]\n",
    "print(x)"
   ]
  },
  {
   "cell_type": "code",
   "execution_count": null,
   "id": "b6ebf3c2",
   "metadata": {},
   "outputs": [],
   "source": []
  }
 ],
 "metadata": {
  "kernelspec": {
   "display_name": "Python 3 (ipykernel)",
   "language": "python",
   "name": "python3"
  },
  "language_info": {
   "codemirror_mode": {
    "name": "ipython",
    "version": 3
   },
   "file_extension": ".py",
   "mimetype": "text/x-python",
   "name": "python",
   "nbconvert_exporter": "python",
   "pygments_lexer": "ipython3",
   "version": "3.9.12"
  }
 },
 "nbformat": 4,
 "nbformat_minor": 5
}
