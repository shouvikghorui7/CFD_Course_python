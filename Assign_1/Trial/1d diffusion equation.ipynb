{
 "cells": [
  {
   "cell_type": "code",
   "execution_count": 13,
   "id": "34e2f5df",
   "metadata": {},
   "outputs": [
    {
     "name": "stdout",
     "output_type": "stream",
     "text": [
      "[29000.  4000.  4000.  4000. 54000.]\n",
      "[0.002 0.006 0.01  0.014 0.018]\n"
     ]
    },
    {
     "data": {
      "image/png": "[encoded data removed]",
      "text/plain": [
       "<Figure size 432x288 with 1 Axes>"
      ]
     },
     "metadata": {
      "needs_background": "light"
     },
     "output_type": "display_data"
    }
   ],
   "source": [
    "import numpy as np\n",
    "import matplotlib.pyplot as plt\n",
    "#.......................Now we need to solve this AT=B equation using Gauss seidel ........\n",
    "def Gauss_seidel(A,B):\n",
    "    key=0\n",
    "    n=len(A)\n",
    "    x=np.ones(n) #.................#initial guess as 1 for all the x\n",
    "    x_0=np.ones(n)\n",
    "    epc=10**(-9)\n",
    "    while(key==0):\n",
    "        for i in range(0,n):\n",
    "            sum1=B[i]\n",
    "            for j in range(0,n):\n",
    "                if(i!=j):\n",
    "                    sum1= sum1-A[i][j]*x_0[j]\n",
    "            x[i]=sum1/A[i][i]\n",
    "            if(abs((x[i]-x_0[i])/x[i])<epc):\n",
    "                key=1\n",
    "            x_0[i]=x[i]\n",
    "    return x\n",
    "#..........................End of Gauss_seidel....................\n",
    "Nx=5\n",
    "Ny=5\n",
    "L=0.02\n",
    "H=0.5\n",
    "dx=np.zeros(Nx+1)\n",
    "dy=np.zeros(Nx+1)\n",
    "dx[0]=L/Nx\n",
    "dy[0]=L/Ny\n",
    "for i in range(1,Nx+1):\n",
    "    dx[i]=dx[i-1]*1\n",
    "for i in range(1,Ny+1):\n",
    "    dy[i]=dy[i-1]*1\n",
    "cx=np.zeros(Nx+1)\n",
    "cy=np.zeros(Ny+1)\n",
    "node_x=np.zeros(Nx)\n",
    "node_y=np.zeros(Ny)\n",
    "for i in range(1,Nx+1):\n",
    "    cx[i]=cx[i-1]+dx[i]\n",
    "for i in range(0,Nx):\n",
    "    node_x[i]=(cx[i]+cx[i+1])/2\n",
    "for i in range(1,Ny+1):\n",
    "    cy[i]=cy[i-1]+dy[i]\n",
    "for i in range(0,Ny):\n",
    "    node_y[i]=(cy[i]+cy[i+1])/2 \n",
    "# [X,Y] =np.meshgrid(x,y)\n",
    "for i in range(0,Nx+1):\n",
    "    cx[i]=(cx[i]/cx[-1])*L\n",
    "for i in range(0,Nx+1):\n",
    "    cy[i]=(cy[i]/cy[-1])*H\n",
    "# ..............................cx is storing face value cx[i] and node_x is giving cell center value ......\n",
    "\n",
    "dx_1=L/Nx #### to avoid initial confusion we ignore streatching case ############ \n",
    "dy_1=L/Ny #### to avoid initial confusion we ignore streatching case ############\n",
    "#..............................................\n",
    "k= 0.5\n",
    "q=10**6\n",
    "T1=100\n",
    "T2=200\n",
    "Area=1\n",
    "#..........................Need to create A and B matric to AT=B............. and find T using Gauss-Seidel\n",
    "A=np.zeros((Nx,Nx) ,dtype=np.float32)\n",
    "B=np.zeros(Nx,dtype=np.float32)\n",
    "T=np.zeros(Nx,dtype=np.float32)\n",
    "#.....................calculation of coefficient of A..................................\n",
    "for i in range(0,Nx):\n",
    "    if(i==0):\n",
    "        aw=0\n",
    "        ae=k*Area/dx_1\n",
    "        sp=-(2*k*Area)/dx_1\n",
    "        su=(q*Area*dx_1)+((2*k*Area)/dx_1)*T1\n",
    "        ap=aw+ae-sp\n",
    "        A[i][i] = ap\n",
    "        A[i][i+1]=-ae\n",
    "        #A[i][i-1]=-aw\n",
    "        B[i]=su\n",
    "    elif(i==(Nx-1)):\n",
    "        aw=(k*Area)/dx_1\n",
    "        ae=0\n",
    "        sp=-(2*k*Area)/dx_1\n",
    "        su=(q*Area*dx_1) + ((2*k*Area)/dx_1)*T2\n",
    "        ap=aw+ae-sp\n",
    "        A[i][i]=ap\n",
    "        #A[i][i+1]=0\n",
    "        A[i][i-1]=-aw\n",
    "        B[i]=su\n",
    "    else:\n",
    "        aw=(k*Area)/dx_1\n",
    "        ae=(k*Area)/dx_1\n",
    "        sp=0\n",
    "        su=(q*Area*dx_1)\n",
    "        ap=aw+ae-sp\n",
    "        A[i][i]=ap\n",
    "        A[i][i+1]=-ae\n",
    "        A[i][i-1]=-aw\n",
    "        B[i]=su\n",
    "print(B)\n",
    "T=Gauss_seidel(A,B)\n",
    "\n",
    "print(node_x)\n",
    "plt.plot(node_x*100,T)\n",
    "plt.show()\n",
    "#..............For contour...............\n",
    "node_xf=np.zeros(Nx)"
   ]
  },
  {
   "cell_type": "code",
   "execution_count": null,
   "id": "96a29e2e",
   "metadata": {},
   "outputs": [],
   "source": []
  }
 ],
 "metadata": {
  "kernelspec": {
   "display_name": "Python 3 (ipykernel)",
   "language": "python",
   "name": "python3"
  },
  "language_info": {
   "codemirror_mode": {
    "name": "ipython",
    "version": 3
   },
   "file_extension": ".py",
   "mimetype": "text/x-python",
   "name": "python",
   "nbconvert_exporter": "python",
   "pygments_lexer": "ipython3",
   "version": "3.9.12"
  }
 },
 "nbformat": 4,
 "nbformat_minor": 5
}
