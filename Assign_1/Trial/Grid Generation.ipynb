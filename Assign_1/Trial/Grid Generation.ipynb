{
 "cells": [
  {
   "cell_type": "code",
   "execution_count": 1,
   "id": "99a5ba86",
   "metadata": {},
   "outputs": [
    {
     "data": {
      "image/png": "[encoded data removed]",
      "text/plain": [
       "<Figure size 432x288 with 1 Axes>"
      ]
     },
     "metadata": {
      "needs_background": "light"
     },
     "output_type": "display_data"
    }
   ],
   "source": [
    "import numpy as np\n",
    "import matplotlib.pyplot as plt\n",
    "Nx=20\n",
    "Ny=20\n",
    "L=1\n",
    "H=0.5\n",
    "dx=1/20\n",
    "dy=0.5/20\n",
    "'''cx=[]\n",
    "cy=[]\n",
    "cx[0]=0\n",
    "cy[0]=0\n",
    "for i in range(1,Nx+1):\n",
    "    cx[i]=cx[i-1]+dx\n",
    "for i in range(1,Nx+1):\n",
    "    node_x[i]=(cx[i]+cx[i-1])/2\n",
    "for i in range(1,Ny+1):\n",
    "    cy[i]=cy[i-1]+dy\n",
    "for i in range(1,Ny+1):\n",
    "    node_y[i]=(cy[i]+cy[i-1])/2 '''\n",
    "x = np.linspace(0, 1, 21)\n",
    "y= np.linspace(0,0.5,21)\n",
    "dx=[0]*(len(x)-1)\n",
    "dy=[0]*(len(y)-1)\n",
    "cx=[0]*(len(x)-1)\n",
    "cy=[0]*(len(y)-1)\n",
    "#dx for eatch and every cell \n",
    "for i in range(0,(len(x)-1)):\n",
    "    dx[i]=x[i+1]-x[i]\n",
    "#dy for eatch and every cell \n",
    "for i in range(0,(len(y)-1)):\n",
    "    dy[i]=y[i+1]-y[i]\n",
    "     \n",
    "# print(dx)\n",
    "# print(dy)\n",
    "#now need to print the center of eatch cell value\n",
    "for i in range(0,(len(x)-1)):\n",
    "    cx[i]=(x[i]+x[i+1])/2\n",
    "for i in range(0,(len(y)-1)):\n",
    "    cy[i]=(y[i]+y[i+1])/2\n",
    "# print(cx)\n",
    "# print(cy)\n",
    "#plt.plot(y[0:3],X[0:3])\n",
    "[X,Y] =np.meshgrid(x,y)\n",
    "[X_1,Y_1]=np.meshgrid(cx,cy)\n",
    "#print(X_1)\n",
    "#print(Y_1)\n",
    "plt.plot(X,y)\n",
    "plt.plot(x,np.transpose(Y))\n",
    "plt.show()"
   ]
  },
  {
   "cell_type": "code",
   "execution_count": 5,
   "id": "47c207d7",
   "metadata": {},
   "outputs": [
    {
     "data": {
      "image/png": "[encoded data removed]",
      "text/plain": [
       "<Figure size 432x288 with 1 Axes>"
      ]
     },
     "metadata": {
      "needs_background": "light"
     },
     "output_type": "display_data"
    },
    {
     "name": "stdout",
     "output_type": "stream",
     "text": [
      "[0.  0.1 0.2 0.3 0.4 0.5]\n",
      "[[0.  0.2 0.4 0.6 0.8 1. ]\n",
      " [0.  0.2 0.4 0.6 0.8 1. ]\n",
      " [0.  0.2 0.4 0.6 0.8 1. ]\n",
      " [0.  0.2 0.4 0.6 0.8 1. ]\n",
      " [0.  0.2 0.4 0.6 0.8 1. ]\n",
      " [0.  0.2 0.4 0.6 0.8 1. ]]\n",
      "[[0.  0.  0.  0.  0.  0. ]\n",
      " [0.1 0.1 0.1 0.1 0.1 0.1]\n",
      " [0.2 0.2 0.2 0.2 0.2 0.2]\n",
      " [0.3 0.3 0.3 0.3 0.3 0.3]\n",
      " [0.4 0.4 0.4 0.4 0.4 0.4]\n",
      " [0.5 0.5 0.5 0.5 0.5 0.5]]\n"
     ]
    }
   ],
   "source": [
    "import numpy as np\n",
    "import matplotlib.pyplot as plt\n",
    "Nx=5\n",
    "Ny=5\n",
    "L=1\n",
    "H=0.5\n",
    "dx=1/Nx\n",
    "dy=0.5/Ny\n",
    "cx=np.zeros(Nx+1)\n",
    "#cx=[0]*(Nx+1)\n",
    "#cy=[0]*(Ny+1)\n",
    "cy=np.zeros(Ny+1)\n",
    "node_x=np.zeros(Nx)\n",
    "node_y=np.zeros(Ny)\n",
    "for i in range(1,Nx+1):\n",
    "    cx[i]=cx[i-1]+dx\n",
    "for i in range(0,Nx):\n",
    "    node_x[i]=(cx[i]+cx[i+1])/2\n",
    "for i in range(1,Ny+1):\n",
    "    cy[i]=cy[i-1]+dy\n",
    "for i in range(0,Ny):\n",
    "    node_y[i]=(cy[i]+cy[i+1])/2 \n",
    "# [X,Y] =np.meshgrid(x,y)\n",
    "[X,Y]=np.meshgrid(cx,cy)\n",
    "#print(X_1)\n",
    "#print(Y_1)\n",
    "plt.plot(X,cy)\n",
    "#plt.plot(cx,np.transpose(Y))\n",
    "plt.show()\n",
    "print(cy)\n",
    "print(X)\n",
    "print(Y)"
   ]
  },
  {
   "cell_type": "code",
   "execution_count": 6,
   "id": "114b3279",
   "metadata": {},
   "outputs": [
    {
     "name": "stdout",
     "output_type": "stream",
     "text": [
      "[0.01745    0.019195   0.0211145  0.02322595 0.02554855 0.0281034\n",
      " 0.03091374 0.03400511 0.03740562 0.04114619 0.04526081 0.04978689\n",
      " 0.05476558 0.06024213 0.06626635 0.07289298 0.08018228 0.08820051\n",
      " 0.09702056 0.10672261]\n",
      "[0.008729   0.0096019  0.01056209 0.0116183  0.01278013 0.01405814\n",
      " 0.01546396 0.01701035 0.01871139 0.02058253 0.02264078 0.02490486\n",
      " 0.02739534 0.03013488 0.03314836 0.0364632  0.04010952 0.04412047\n",
      " 0.04853252 0.05338577]\n"
     ]
    },
    {
     "data": {
      "image/png": "[encoded data removed]",
      "text/plain": [
       "<Figure size 432x288 with 1 Axes>"
      ]
     },
     "metadata": {
      "needs_background": "light"
     },
     "output_type": "display_data"
    }
   ],
   "source": [
    "import numpy as np\n",
    "import matplotlib.pyplot as plt\n",
    "Nx=20\n",
    "Ny=20\n",
    "L=1\n",
    "H=0.5\n",
    "dx=np.zeros(Nx)\n",
    "dy=np.zeros(Nx)\n",
    "dx[0]=0.01745\n",
    "dy[0]=0.008729\n",
    "for i in range(1,Nx):\n",
    "    dx[i]=dx[i-1]*1.1\n",
    "for i in range(1,Ny):\n",
    "    dy[i]=dy[i-1]*1.1\n",
    "print(dx)\n",
    "print(dy)\n",
    "cx=np.zeros(Nx+1)\n",
    "#cx=[0]*(Nx+1)\n",
    "#cy=[0]*(Ny+1)\n",
    "cy=np.zeros(Ny+1)\n",
    "node_x=np.zeros(Nx)\n",
    "node_y=np.zeros(Ny)\n",
    "for i in range(1,Nx):\n",
    "    cx[i]=cx[i-1]+dx[i]\n",
    "for i in range(0,Nx):\n",
    "    node_x[i]=(cx[i]+cx[i+1])/2\n",
    "for i in range(1,Ny):\n",
    "    cy[i]=cy[i-1]+dy[i]\n",
    "for i in range(0,Ny):\n",
    "    node_y[i]=(cy[i]+cy[i+1])/2 \n",
    "# [X,Y] =np.meshgrid(x,y)\n",
    "[X,Y]=np.meshgrid(cx,cy)\n",
    "#print(X_1)\n",
    "#print(Y_1)\n",
    "plt.plot(X,cy)\n",
    "plt.plot(cx,np.transpose(Y))\n",
    "plt.show()\n",
    "#print(cx)"
   ]
  },
  {
   "cell_type": "markdown",
   "id": "f19c1078",
   "metadata": {},
   "source": [
    "# Final with streatching and without both \n"
   ]
  },
  {
   "cell_type": "code",
   "execution_count": 2,
   "id": "bcd64a16",
   "metadata": {},
   "outputs": [
    {
     "name": "stdout",
     "output_type": "stream",
     "text": [
      "[0.2      0.22     0.242    0.2662   0.29282  0.322102]\n"
     ]
    },
    {
     "data": {
      "image/png": "[encoded data removed]",
      "text/plain": [
       "<Figure size 432x288 with 1 Axes>"
      ]
     },
     "metadata": {
      "needs_background": "light"
     },
     "output_type": "display_data"
    }
   ],
   "source": [
    "import numpy as np\n",
    "import matplotlib.pyplot as plt\n",
    "Nx=5\n",
    "Ny=5\n",
    "L=1\n",
    "H=0.5\n",
    "dx=np.zeros(Nx+1)\n",
    "dy=np.zeros(Nx+1)\n",
    "dx[0]=L/Nx\n",
    "dy[0]=L/Ny\n",
    "for i in range(1,Nx+1):\n",
    "    dx[i]=dx[i-1]*1.1\n",
    "for i in range(1,Ny+1):\n",
    "    dy[i]=dy[i-1]*1.1\n",
    "# print(dx)\n",
    "# print(dy)\n",
    "cx=np.zeros(Nx+1)\n",
    "cy=np.zeros(Ny+1)\n",
    "node_x=np.zeros(Nx)\n",
    "node_y=np.zeros(Ny)\n",
    "for i in range(1,Nx+1):\n",
    "    cx[i]=cx[i-1]+dx[i]\n",
    "for i in range(0,Nx):\n",
    "    node_x[i]=(cx[i]+cx[i+1])/2\n",
    "for i in range(1,Ny+1):\n",
    "    cy[i]=cy[i-1]+dy[i]\n",
    "for i in range(0,Ny):\n",
    "    node_y[i]=(cy[i]+cy[i+1])/2 \n",
    "# [X,Y] =np.meshgrid(x,y)\n",
    "for i in range(0,Nx+1):\n",
    "    cx[i]=(cx[i]/cx[-1])*L\n",
    "for i in range(0,Nx+1):\n",
    "    cy[i]=(cy[i]/cy[-1])*H\n",
    "[X,Y]=np.meshgrid(cx,cy)\n",
    "#print(X_1)\n",
    "print(dx)\n",
    "plt.plot(X,cy)\n",
    "plt.plot(cx,np.transpose(Y))\n",
    "plt.show()"
   ]
  },
  {
   "cell_type": "code",
   "execution_count": null,
   "id": "1268b80f",
   "metadata": {},
   "outputs": [],
   "source": []
  }
 ],
 "metadata": {
  "kernelspec": {
   "display_name": "Python 3 (ipykernel)",
   "language": "python",
   "name": "python3"
  },
  "language_info": {
   "codemirror_mode": {
    "name": "ipython",
    "version": 3
   },
   "file_extension": ".py",
   "mimetype": "text/x-python",
   "name": "python",
   "nbconvert_exporter": "python",
   "pygments_lexer": "ipython3",
   "version": "3.9.12"
  }
 },
 "nbformat": 4,
 "nbformat_minor": 5
}
