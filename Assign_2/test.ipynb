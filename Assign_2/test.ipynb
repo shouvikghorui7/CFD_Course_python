{
 "cells": [
  {
   "cell_type": "code",
   "execution_count": 1,
   "id": "2de5fbbb",
   "metadata": {},
   "outputs": [],
   "source": [
    "import numpy as np\n",
    "import copy as copy\n",
    "import matplotlib.pyplot as plt\n",
    "from scipy.linalg import norm\n",
    "import math \n",
    "import matplotlib.gridspec as gridspec\n",
    "from scipy.interpolate import interp2d\n",
    "\n",
    "f1=open(\"xc.dat\",'r')\n",
    "f2=open(\"yc.dat\")\n",
    "f3=open(\"u.dat\")\n",
    "f4=open(\"v.dat\")\n",
    "\n",
    "\n",
    "\n",
    "xc=f1.readlines()\n",
    "xc = list(map(float, xc))\n",
    "xc=np.array(xc)\n",
    "#print(xc)\n",
    "nim1=len(xc)\n",
    "ni=nim1+1\n",
    "\n",
    "yc=f2.readlines()\n",
    "yc = list(map(float, yc))\n",
    "yc=np.array(yc)\n",
    "njm1=len(yc) #26\n",
    "nj=njm1+1 #27\n",
    "\n",
    "u1=f3.readlines()\n",
    "u1 = list(map(float, u1))\n",
    "u2d=np.reshape(u1,(ni,nj)) #27*27\n",
    "u2d=np.array(u2d)\n",
    "u2d=u2d.transpose()\n",
    "\n",
    "v1=f4.readlines()\n",
    "v1 = list(map(float, v1))\n",
    "v2d=np.reshape(v1,(ni,nj)) #27*27\n",
    "v2d=np.array(v2d)\n",
    "v2d=v2d.transpose()\n",
    "#print(v2d.shape)\n",
    "\n",
    "\n",
    "#  xc and yc are the coordinates of the grid\n",
    "\n",
    "#        o---------------o  yc(j)\n",
    "#        |               |\n",
    "#        |               |\n",
    "#        |       P       |\n",
    "#        |               |\n",
    "#        |               |\n",
    "#        o---------------o  yc(j-1)\n",
    "\n",
    "#      xc(i-1)          xc(i)          \n",
    "\n",
    "# The cell-node (P) has the coordinates xp(i), yp(j)\n",
    "\n",
    "# compute the x-coordinates of the cell centres\n",
    "xp= np.ones(nim1+1)\n",
    "for i in range(1,nim1):\n",
    "    xp[i]=0.5*(xc[i]+xc[i-1])\n",
    "xp[0]=xc[0]\n",
    "xp[-1]=xc[-1]\n",
    "\n",
    "yp= np.ones(njm1+1)\n",
    "for i in range(1,njm1):\n",
    "    yp[i]=0.5*(yc[i]+yc[i-1])\n",
    "yp[0]=yc[0]\n",
    "yp[-1]=yc[-1]\n",
    "#u for the faces:..............\n",
    "u=np.zeros((nim1,njm1),dtype=np.float32)\n",
    "v=np.zeros((nim1,njm1),dtype=np.float32)\n",
    "for i in range(1,nim1):\n",
    "    for j in range(1,njm1):\n",
    "        u[i][j]=0.5*(u2d[i][j]+u2d[i][j+1])\n",
    "        u[0][j]=u2d[0][j]\n",
    "        u[i][0]=u2d[i][0]\n",
    "for i in range(1,nim1):\n",
    "    for j in range(1,njm1):\n",
    "        v[i][j]=0.5*(v2d[i][j]+v2d[i][j+1])\n",
    "        v[0][j]=v2d[0][j]\n",
    "        v[i][0]=v2d[i][0]\n",
    "#calculation for the distance between two cell center \n",
    "d_x=np.zeros(nim1)\n",
    "d_y=np.zeros(njm1)\n",
    "for i in range(0,nim1):\n",
    "    d_x[i]= xp[i+1]-xp[i]\n",
    "for i in range(0,njm1):\n",
    "    d_y[i]= yp[i+1]-yp[i]\n",
    "#calculation for del_x and del_y\n",
    "del_x=np.zeros(nim1-1)\n",
    "del_y=np.zeros(njm1-1)\n",
    "for i in range(0,nim1-1):\n",
    "    del_x[i]= xc[i+1]-xc[i]\n",
    "for i in range(0,njm1-1):\n",
    "    del_y[i]= yc[i+1]-yc[i]\n",
    "#.........center dim of the domain for plot\n",
    "cx=np.delete(xp,0)\n",
    "cx = np.delete(cx,-1)\n",
    "cy=np.delete(yp,0)\n",
    "cy = np.delete(cy,-1)        \n",
    "#............................................\n",
    "Ta=20\n",
    "T2=10\n",
    "gamma=1/500 #k_by_cp\n",
    "#.................................\n",
    "key=0\n",
    "epc=10**(-5)\n",
    "T_0=np.ones((len(del_x),len(del_y)),dtype=np.float32)\n",
    "T=np.ones((len(del_x),len(del_y)),dtype=np.float32)\n",
    "residu=[]\n",
    "itaration=[]\n",
    "count=0"
   ]
  },
  {
   "cell_type": "code",
   "execution_count": 2,
   "id": "c851ab54",
   "metadata": {},
   "outputs": [
    {
     "name": "stdout",
     "output_type": "stream",
     "text": [
      "(25,)\n"
     ]
    }
   ],
   "source": [
    "print(del_x.shape)"
   ]
  },
  {
   "cell_type": "code",
   "execution_count": 3,
   "id": "593c9673",
   "metadata": {},
   "outputs": [
    {
     "data": {
      "text/plain": [
       "array([0.        , 0.01372617, 0.03232896, 0.05739456, 0.09090453,\n",
       "       0.1352378 , 0.1930853 , 0.2672209 , 0.3600709 , 0.4730676 ,\n",
       "       0.6058733 , 0.7557168 , 0.9171914 , 1.082808  , 1.244283  ,\n",
       "       1.394127  , 1.526932  , 1.639929  , 1.732779  , 1.806915  ,\n",
       "       1.864762  , 1.909095  , 1.942605  , 1.967671  , 1.986274  ,\n",
       "       2.        ])"
      ]
     },
     "execution_count": 3,
     "metadata": {},
     "output_type": "execute_result"
    }
   ],
   "source": [
    "yc"
   ]
  },
  {
   "cell_type": "code",
   "execution_count": null,
   "id": "7287ea1b",
   "metadata": {},
   "outputs": [],
   "source": []
  }
 ],
 "metadata": {
  "kernelspec": {
   "display_name": "Python 3 (ipykernel)",
   "language": "python",
   "name": "python3"
  },
  "language_info": {
   "codemirror_mode": {
    "name": "ipython",
    "version": 3
   },
   "file_extension": ".py",
   "mimetype": "text/x-python",
   "name": "python",
   "nbconvert_exporter": "python",
   "pygments_lexer": "ipython3",
   "version": "3.9.12"
  }
 },
 "nbformat": 4,
 "nbformat_minor": 5
}
