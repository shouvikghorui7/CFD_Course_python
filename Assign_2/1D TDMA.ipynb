{
 "cells": [
  {
   "cell_type": "code",
   "execution_count": 1,
   "id": "048d9be6",
   "metadata": {},
   "outputs": [],
   "source": [
    "import numpy as np\n",
    "from matplotlib import pyplot as plt\n",
    "x_len = 1.0\n",
    "x_points = 20 #no of face\n",
    "del_x = x_len/float(x_points-1)\n",
    "x_gr = np.linspace(0, x_len, x_points, dtype=float)\n",
    "k = 5.0\n",
    "g = 20.0 * 1000\n",
    "A = 0.01\n",
    "T_0 = 100\n",
    "T_L = 500\n",
    "coeff_mat = np.zeros((x_points,x_points))\n",
    "sol_mat = np.zeros(x_points)\n",
    "\n",
    "#for internal cell\n",
    "for i in range(1, x_points-1):\n",
    "    aW = k * A / float(del_x)\n",
    "    aE = k * A / float(del_x)\n",
    "    Sp = 0\n",
    "    Su = g*A*del_x\n",
    "    aP = aW + aE - Sp\n",
    "\n",
    "    coeff_mat[i,i] = aP\n",
    "    coeff_mat[i, i+1] = -1.0*aE\n",
    "    coeff_mat[i,i-1] = -1.0*aW\n",
    "    sol_mat[i] = Su\n",
    "## Boundary 0\n",
    "aW = 0\n",
    "aE = k * A / float(del_x)\n",
    "Sp = -1.0*k*A/float(del_x/float(2))\n",
    "Su = g*A*del_x + T_0*k*A/float(del_x/float(2))\n",
    "aP = aW + aE - Sp\n",
    "\n",
    "coeff_mat[0,0] = aP\n",
    "coeff_mat[0,1] = -1.0*aE\n",
    "sol_mat[0] = Su\n",
    "\n",
    "## Boundary -1\n",
    "aE = 0\n",
    "aW = k * A / float(del_x)\n",
    "Sp = -1.0*k*A/float(del_x/float(2))\n",
    "Su = g*A*del_x + T_L*k*A/float(del_x/float(2))\n",
    "aP = aW + aE - Sp\n",
    "\n",
    "coeff_mat[-1,-1] = aP\n",
    "coeff_mat[-1,-2] = -1.0*aW\n",
    "sol_mat[-1] = Su\n",
    "\n",
    "# Solution using TDMA (Tri diagonal matrix algorithm)\n",
    "T_tdma = np.ones(x_points)\n",
    "A = np.zeros(x_points)\n",
    "C_dash = np.zeros(x_points)\n",
    "A[0] = coeff_mat[0,1]/float(coeff_mat[0,0])\n",
    "C_dash[0] = sol_mat[0]/float(coeff_mat[0,0])\n",
    "for i in range(1, x_points-1):\n",
    "    A[i] = -1.0 * coeff_mat[i, i + 1] / float(coeff_mat[i, i] - -1.0 * coeff_mat[i, i-1] * A[i - 1])\n",
    "    C_dash[i] = (sol_mat[i] + -1.0 * coeff_mat[i, i-1] * C_dash[i - 1]) / float(coeff_mat[i, i] - -1.0 * coeff_mat[i, i-1] * A[i - 1])\n",
    "\n",
    "C_dash[-1] = (sol_mat[-1] + -1.0 * coeff_mat[-1, -2] * C_dash[-2]) / float(coeff_mat[-1,-1] - -1.0 * coeff_mat[-1,-2] * A[-2])\n",
    "A[-1] = 0\n",
    "T_tdma[-1] = C_dash[-1]\n",
    "\n",
    "for i in range(x_points-2, -1, -1):\n",
    "    T_tdma[i] = A[i]*T_tdma[i+1] + C_dash[i]\n",
    "\n",
    "print (\"\\n The solution vector using TDMA is: \\n\" + str(T_tdma))"
   ]
  },
  {
   "cell_type": "code",
   "execution_count": 5,
   "id": "1c2f126a",
   "metadata": {},
   "outputs": [
    {
     "data": {
      "text/plain": [
       "0.05263157894736842"
      ]
     },
     "execution_count": 5,
     "metadata": {},
     "output_type": "execute_result"
    }
   ],
   "source": [
    "del_x\n"
   ]
  },
  {
   "cell_type": "code",
   "execution_count": null,
   "id": "ca1d5e6d",
   "metadata": {},
   "outputs": [],
   "source": []
  }
 ],
 "metadata": {
  "kernelspec": {
   "display_name": "Python 3 (ipykernel)",
   "language": "python",
   "name": "python3"
  },
  "language_info": {
   "codemirror_mode": {
    "name": "ipython",
    "version": 3
   },
   "file_extension": ".py",
   "mimetype": "text/x-python",
   "name": "python",
   "nbconvert_exporter": "python",
   "pygments_lexer": "ipython3",
   "version": "3.9.12"
  }
 },
 "nbformat": 4,
 "nbformat_minor": 5
}
